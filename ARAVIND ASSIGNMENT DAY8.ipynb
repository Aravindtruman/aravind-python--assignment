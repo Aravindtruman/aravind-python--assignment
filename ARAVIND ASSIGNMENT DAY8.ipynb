{
 "cells": [
  {
   "cell_type": "markdown",
   "metadata": {},
   "source": [
    "# ASSIGNMENT DAY 8"
   ]
  },
  {
   "cell_type": "markdown",
   "metadata": {},
   "source": [
    "### QUESTION 1"
   ]
  },
  {
   "cell_type": "code",
   "execution_count": 1,
   "metadata": {},
   "outputs": [],
   "source": [
    "def getInput(nota):\n",
    "    def repeat():\n",
    "        print(\"Hey guys, Enter the range to print prime numbers between them \")\n",
    "        a = int(input(\"Enter your first Number - \"))\n",
    "        b = int(input(\"Enter your second Number - \"))\n",
    "        nota(a,b)   \n",
    "    return repeat"
   ]
  },
  {
   "cell_type": "code",
   "execution_count": 2,
   "metadata": {},
   "outputs": [],
   "source": [
    "@getInput\n",
    "def print_prime_nos(c,d):\n",
    "    for num in range(c,d+1):\n",
    "        if num > 1:\n",
    "            for i in range(2, num):\n",
    "                if (num % i) == 0:\n",
    "                    break\n",
    "            else:\n",
    "                print(num)"
   ]
  },
  {
   "cell_type": "code",
   "execution_count": 3,
   "metadata": {
    "scrolled": true
   },
   "outputs": [
    {
     "name": "stdout",
     "output_type": "stream",
     "text": [
      "Hey guys, Enter the range to print prime numbers between them \n",
      "Enter your first Number - 2\n",
      "Enter your second Number - 50\n",
      "2\n",
      "3\n",
      "5\n",
      "7\n",
      "11\n",
      "13\n",
      "17\n",
      "19\n",
      "23\n",
      "29\n",
      "31\n",
      "37\n",
      "41\n",
      "43\n",
      "47\n"
     ]
    }
   ],
   "source": [
    "print_prime_nos()"
   ]
  },
  {
   "cell_type": "markdown",
   "metadata": {},
   "source": [
    "### QUESTION 2"
   ]
  },
  {
   "cell_type": "code",
   "execution_count": 4,
   "metadata": {},
   "outputs": [
    {
     "name": "stdout",
     "output_type": "stream",
     "text": [
      "HEY guys,\n",
      "how are you\n",
      "yoou guys are seeing the zero file in read only mode\n"
     ]
    }
   ],
   "source": [
    "buji = open(\"zero.txt\",\"r\")\n",
    "dora = buji.read()\n",
    "print(dora)"
   ]
  },
  {
   "cell_type": "code",
   "execution_count": 5,
   "metadata": {},
   "outputs": [
    {
     "name": "stdout",
     "output_type": "stream",
     "text": [
      "The file is  not writable\n"
     ]
    }
   ],
   "source": [
    "try :\n",
    "    buji.write(\"HI\")\n",
    "    buji.close()\n",
    "    print(\"Success\")\n",
    "except Exception as e:\n",
    "    print(\"The file is \",e)\n"
   ]
  },
  {
   "cell_type": "code",
   "execution_count": null,
   "metadata": {},
   "outputs": [],
   "source": []
  }
 ],
 "metadata": {
  "kernelspec": {
   "display_name": "Python 3",
   "language": "python",
   "name": "python3"
  },
  "language_info": {
   "codemirror_mode": {
    "name": "ipython",
    "version": 3
   },
   "file_extension": ".py",
   "mimetype": "text/x-python",
   "name": "python",
   "nbconvert_exporter": "python",
   "pygments_lexer": "ipython3",
   "version": "3.8.3"
  }
 },
 "nbformat": 4,
 "nbformat_minor": 4
}
