{
 "cells": [
  {
   "cell_type": "markdown",
   "metadata": {},
   "source": [
    "# ASSIGNMENT DAY 6"
   ]
  },
  {
   "cell_type": "markdown",
   "metadata": {},
   "source": [
    "## QUESTION 1"
   ]
  },
  {
   "cell_type": "code",
   "execution_count": 1,
   "metadata": {},
   "outputs": [],
   "source": [
    "class bank_account():\n",
    "    def  __init__(self,ownerName,Balance):\n",
    "        self.ownerName=ownerName\n",
    "        self.Balance=Balance\n",
    "    def deposit(self):\n",
    "        amount=int(input(\"Enter the amount to deposit:\"))\n",
    "        self.Balance+=amount\n",
    "        print(\"you deposited amount:Rs,\",amount,\"/-\")\n",
    "    def withdraw(self):\n",
    "        amount=int(input(\"Enter the amount to withdraw:\"))\n",
    "        if self.Balance>=amount and amount!=0:\n",
    "            self.Balance-=amount\n",
    "            print(\"-------------------------------------\\nMr \",self.ownerName,\"your account balance is Rs.\",self.Balance,\"/-\\n-------------------------------------\")\n",
    "        else:\n",
    "            print(\"Your account has insufficient balance\")\n",
    "    "
   ]
  },
  {
   "cell_type": "code",
   "execution_count": 2,
   "metadata": {},
   "outputs": [],
   "source": [
    "account=bank_account(\"Aravind\",0)"
   ]
  },
  {
   "cell_type": "code",
   "execution_count": 3,
   "metadata": {},
   "outputs": [
    {
     "name": "stdout",
     "output_type": "stream",
     "text": [
      "Enter the amount to deposit:500\n",
      "you deposited amount:Rs, 500\n"
     ]
    }
   ],
   "source": [
    "account.deposit()"
   ]
  },
  {
   "cell_type": "code",
   "execution_count": 4,
   "metadata": {},
   "outputs": [
    {
     "name": "stdout",
     "output_type": "stream",
     "text": [
      "Enter the amount to withdraw:400\n",
      "-------------------------------------\n",
      "your account balance is Rs. 100 /-\n",
      "-------------------------------------\n"
     ]
    }
   ],
   "source": [
    "account.withdraw()"
   ]
  },
  {
   "cell_type": "code",
   "execution_count": 5,
   "metadata": {},
   "outputs": [
    {
     "name": "stdout",
     "output_type": "stream",
     "text": [
      "Enter the amount to deposit:5000\n",
      "you deposited amount:Rs, 5000\n"
     ]
    }
   ],
   "source": [
    "account.deposit()"
   ]
  },
  {
   "cell_type": "code",
   "execution_count": 6,
   "metadata": {},
   "outputs": [
    {
     "name": "stdout",
     "output_type": "stream",
     "text": [
      "Enter the amount to deposit:4000\n",
      "you deposited amount:Rs, 4000\n"
     ]
    }
   ],
   "source": [
    "account.deposit()"
   ]
  },
  {
   "cell_type": "code",
   "execution_count": 7,
   "metadata": {
    "scrolled": true
   },
   "outputs": [
    {
     "name": "stdout",
     "output_type": "stream",
     "text": [
      "Enter the amount to withdraw:3000\n",
      "-------------------------------------\n",
      "your account balance is Rs. 6100 /-\n",
      "-------------------------------------\n"
     ]
    }
   ],
   "source": [
    "account.withdraw()"
   ]
  },
  {
   "cell_type": "code",
   "execution_count": 9,
   "metadata": {},
   "outputs": [
    {
     "name": "stdout",
     "output_type": "stream",
     "text": [
      "Enter the amount to withdraw:8000\n",
      "Your account has insufficient balance\n"
     ]
    }
   ],
   "source": [
    "account.withdraw()"
   ]
  },
  {
   "cell_type": "code",
   "execution_count": null,
   "metadata": {},
   "outputs": [],
   "source": []
  },
  {
   "cell_type": "markdown",
   "metadata": {},
   "source": [
    "## Question 2"
   ]
  },
  {
   "cell_type": "code",
   "execution_count": 10,
   "metadata": {},
   "outputs": [],
   "source": [
    "import math\n",
    "class classcone():\n",
    "    def __init__(self,radius,height):\n",
    "        self.radius=radius\n",
    "        self.height=height\n",
    "    def volume(self):\n",
    "        return math.pi*(self.radius*self.radius)*self.height/3 \n",
    "    def surface_area(self):\n",
    "        l = math.sqrt(self.radius * self.radius + self.height * self.height)\n",
    "        return math.pi * self.radius * (self.radius + l)\n",
    "        "
   ]
  },
  {
   "cell_type": "code",
   "execution_count": 11,
   "metadata": {},
   "outputs": [
    {
     "data": {
      "text/plain": [
       "1047.1975511965977"
      ]
     },
     "execution_count": 11,
     "metadata": {},
     "output_type": "execute_result"
    }
   ],
   "source": [
    "newCone=classcone(10,10)\n",
    "newCone.volume()"
   ]
  },
  {
   "cell_type": "code",
   "execution_count": 12,
   "metadata": {},
   "outputs": [
    {
     "data": {
      "text/plain": [
       "758.447559174816"
      ]
     },
     "execution_count": 12,
     "metadata": {},
     "output_type": "execute_result"
    }
   ],
   "source": [
    "newCone.surface_area()"
   ]
  },
  {
   "cell_type": "code",
   "execution_count": null,
   "metadata": {},
   "outputs": [],
   "source": []
  }
 ],
 "metadata": {
  "kernelspec": {
   "display_name": "Python 3",
   "language": "python",
   "name": "python3"
  },
  "language_info": {
   "codemirror_mode": {
    "name": "ipython",
    "version": 3
   },
   "file_extension": ".py",
   "mimetype": "text/x-python",
   "name": "python",
   "nbconvert_exporter": "python",
   "pygments_lexer": "ipython3",
   "version": "3.8.3"
  }
 },
 "nbformat": 4,
 "nbformat_minor": 4
}
